{
 "cells": [
  {
   "cell_type": "markdown",
   "id": "6b38dde3",
   "metadata": {},
   "source": [
    "# Deepwalk\n",
    "\n",
    "This notebook explores the DeepWalk algorithm from 2014 whitepaper. learning, experimenting, and explaining it in my own words. I may refine and share parts of this as a future blog post."
   ]
  },
  {
   "cell_type": "markdown",
   "id": "d98e5af1",
   "metadata": {},
   "source": [
    "## Why they came up with it\n",
    "the whitepaper (freely available on arxiv) says (here is some direct paraphrasing) \n",
    "\n",
    "\"The sparsity of a network representation is both a strength\n",
    "and a weakness. Sparsity enables the design of eﬃcient dis-\n",
    "crete algorithms, but can make it harder to generalize in\n",
    "statistical learning. Machine learning applications in net-\n",
    "works (such as network classification [15, 37], content rec-\n",
    "ommendation [11], anomaly detection [5], and missing link\n",
    "prediction [22]) must be able to deal with this sparsity in\n",
    "order to survive.\"\n",
    "\n",
    "So I am not a graph specialist at this point, just an enthusiast.\n",
    "I'm familiar with sparsity though from computer science and some data science/math.\n",
    "I've never tried to describe it in simple terms though, it forces you to go back to \n",
    "what data structures are and captures these properties they share. One of those properties is a sort of \n",
    "occupation versus vacancy. say I had a bunch of buckets like 100, and then I only poured water into 2 of them. Then if the water was the thing I was trying to measure, the fact that 98 buckets didn't have any would be something I would refer to as sparsity. \n",
    "\n",
    "in networks/graphs I assume it is much the same thing. A graph has nodes, edges and weights. if there aren't a lot of edges in a graph it is considered sparse. \n",
    "\n",
    "so let's go over their statements. Sparsity is a strength because it enables efficient discrete algorithms. Why? How?\n",
    "\n",
    "let's take a guess. If in general most graph representations of real world phenomenon are sparse, which seems like a safe assumption for a lot of use cases. Let's unpack that first. Highly connected graphs would be ones in which most of the nodes in the graph had a relationship to almost every other node. for a Social Network that wouldn't likely be the case, because they are mapping a person's voluntary decision to express a relationship with another person, which means some acknolwedged dependency or exchange occurs between them. people don't have that with all of the other people in their neighborhood, much less the entire membership of a globally distributed social network. Roads don't tend to connect to all other roads, because they would lead to a lot of congestion and confusion and we'd have to pave everything. This continues, there is probably something abstract I can say about this, just around the idea that a lot of the value and use of networks is that they focus only on the connections that are important and therefore make it so that you can design discrete algorithms that quickly traverse the important connections and help you make sense of the important relationships between things. We could represent all of the ways in which things might residually or tangentially connect but then that would be a denser representation and would be hard to traverse or come up with a set of rules around. So I think they are talking about this. \n",
    "\n",
    "then the next statement, \"but it can make it harder to generalize in statistical learning\". \n",
    "\n",
    "this may jsut be a central limitation of statistical learning. working backwards from what I know a graph embedding is and what they are trying to accomplish, I have an easier time undreestanding this statement. They are saying that if I wanted to apply a statistical learning algorithm but my input was a graph, I would have to find a way to deal with something like an adjacency matrix. "
   ]
  }
 ],
 "metadata": {
  "language_info": {
   "name": "python"
  }
 },
 "nbformat": 4,
 "nbformat_minor": 5
}
